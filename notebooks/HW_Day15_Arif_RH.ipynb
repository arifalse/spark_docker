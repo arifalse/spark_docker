{
 "cells": [
  {
   "cell_type": "markdown",
   "id": "3589a534-ea50-4656-8240-e08c8be4f04f",
   "metadata": {},
   "source": [
    "# INFOOO"
   ]
  },
  {
   "cell_type": "code",
   "execution_count": 175,
   "id": "023a5d74-be91-4ae9-b7a9-2ff58a47d515",
   "metadata": {
    "tags": []
   },
   "outputs": [],
   "source": [
    "### this rfm measured with reference date (2011-12-20)\n",
    "### r_score,f_score,m_score measured by using quartile\n",
    "### forked repo and assigment file https://github.com/arifalse/spark_docker/tree/main/notebooks"
   ]
  },
  {
   "cell_type": "code",
   "execution_count": 176,
   "id": "2f96db13-b25c-4552-bd0e-7e9dfc3c9bf4",
   "metadata": {},
   "outputs": [],
   "source": [
    "#### Library\n",
    "import pyspark\n",
    "import os\n",
    "import json\n",
    "import argparse\n",
    "from dotenv import load_dotenv\n",
    "from pathlib import Path\n",
    "from pyspark.sql.types import StructType\n",
    "from pyspark.sql import SparkSession, functions as F\n",
    "from pyspark.sql.types import *\n",
    "from datetime import datetime\n",
    "import pandas as pd"
   ]
  },
  {
   "cell_type": "markdown",
   "id": "34ad0f51-6c83-4f2b-bd7c-ff808828ef71",
   "metadata": {
    "tags": []
   },
   "source": [
    "# config path, env & sessions"
   ]
  },
  {
   "cell_type": "code",
   "execution_count": 158,
   "id": "856cf992-ab9d-4a3c-9a3e-f810518e3905",
   "metadata": {},
   "outputs": [],
   "source": [
    "#path resources\n",
    "dotenv_path = Path('/resources/.env')"
   ]
  },
  {
   "cell_type": "code",
   "execution_count": 159,
   "id": "b2ef892f-8a80-40c6-99bd-a8332f8b0149",
   "metadata": {},
   "outputs": [],
   "source": [
    "#credentials db\n",
    "postgres_host = os.getenv('DIBIMBING_DE_POSTGRES_HOST')\n",
    "postgres_db = os.getenv('DIBIMBING_DE_POSTGRES_DB')\n",
    "postgres_user = os.getenv('DIBIMBING_DE_POSTGRES_ACCOUNT')\n",
    "postgres_password = os.getenv('DIBIMBING_DE_POSTGRES_PASSWORD')"
   ]
  },
  {
   "cell_type": "code",
   "execution_count": 160,
   "id": "7644d688-d3aa-44ea-9039-46f32fa84d34",
   "metadata": {},
   "outputs": [],
   "source": [
    "#spark context\n",
    "sparkcontext = pyspark.SparkContext.getOrCreate(conf=(\n",
    "        pyspark\n",
    "        .SparkConf()\n",
    "        .setAppName('Assignment_arif')\n",
    "        .setMaster('local')\n",
    "        .set(\"spark.jars\", \"/opt/postgresql-42.2.18.jar\")\n",
    "    ))\n",
    "sparkcontext.setLogLevel(\"WARN\")\n",
    "\n",
    "spark = pyspark.sql.SparkSession(sparkcontext.getOrCreate())"
   ]
  },
  {
   "cell_type": "markdown",
   "id": "cb4069d3-562c-471d-ab74-2c95186ff340",
   "metadata": {
    "tags": []
   },
   "source": [
    "# Functions"
   ]
  },
  {
   "cell_type": "code",
   "execution_count": 161,
   "id": "f1ca85e1-c58c-4c5e-9004-c68f0701b99b",
   "metadata": {
    "tags": []
   },
   "outputs": [],
   "source": [
    "#### function to creat list of quartil frin df\n",
    "def get_quantile(sdf,col) :\n",
    "    df=sdf.toPandas()\n",
    "    df=df[col].quantile([.25, .5, .75])\n",
    "    return df.tolist()\n",
    "\n",
    "#### function to score recency\n",
    "def r_score(r_value,ls):\n",
    "    ###recencty score calculatet by list of quantile of its value\n",
    "    if r_value <= ls[0]:\n",
    "        return 1\n",
    "    elif r_value <= ls[1]:\n",
    "        return 2\n",
    "    elif r_value <= ls[2]:\n",
    "        return 3\n",
    "    else:\n",
    "        return 4\n",
    "\n",
    "#### function to score frequency\n",
    "def f_score(f_value,ls):\n",
    "    ###frecuency score calculatet by list of quantile of its value\n",
    "    if f_value <= ls[0]:\n",
    "        return 1\n",
    "    elif f_value <= ls[1]:\n",
    "        return 2\n",
    "    elif f_value <= ls[2]:\n",
    "        return 3\n",
    "    else:\n",
    "        return 4\n",
    "      \n",
    "#### function to score monetery\n",
    "def m_score(m_score,ls):\n",
    "    ###monetery score calculatet by list of quantile of its value\n",
    "    if m_score <= ls[0]:\n",
    "        return 1\n",
    "    elif m_score <= ls[1]:\n",
    "        return 2\n",
    "    elif m_score <= ls[2]:\n",
    "        return 3\n",
    "    else:\n",
    "        return 4\n",
    "\n",
    "#### function to label rfm score\n",
    "dict_label = {\n",
    "  'Champion' : [444,443,433,434,343,344,334],\n",
    "  'Loyal Customer' : [432,333,324,244,243,234,233,224],\n",
    "  'Potential Loyalist': [442,440,441,430,431,422,421,420,341,340,331,330,320,342,322,321,312,242,241,240,231,230,222,212],\n",
    "  'New Customer' : [401,400,311,421,412,300,200],\n",
    "  'Promising' : [414,413,412,411,410,404,403,402,314,313,302,303,304,204,203,202],\n",
    "  'Need Attention' : [424,423,332,323,232,223,214,213],\n",
    "  'Cannot Lose Them' : [44,43,33,103,104,4,3,113],\n",
    "  'About To Sleep' : [220,210,201,110,102],\n",
    "  'At Risk' : [144,143,134,133,142,141,132,131,124,123,114,113,42,41,34,32,31,24,23,22,14,13],\n",
    "  'Hibernating' : [221,211,120,130,140,122,121,112,111,21,12,11,101,100],\n",
    "  'Lost' : [100] }\n",
    "\n",
    "def rfm_label(x,dict_label) :\n",
    "    val='Lost Customer'\n",
    "    for key in dict_label :\n",
    "        ls=dict_label.get(key)\n",
    "        if int(x) in ls :\n",
    "            val=key\n",
    "    return val\n",
    "\n",
    "#### register all function to udf\n",
    "def r_udf(ls):\n",
    "    return F.udf(lambda l: r_score(l, ls))\n",
    "def f_udf(ls):\n",
    "    return F.udf(lambda l: f_score(l, ls))\n",
    "def m_udf(ls):\n",
    "    return F.udf(lambda l: m_score(l, ls))\n",
    "def rfm_udf(ls):\n",
    "    return F.udf(lambda l: rfm_label(l, ls))"
   ]
  },
  {
   "cell_type": "markdown",
   "id": "b468983e-84ca-421f-a12d-5fca0f49cd6c",
   "metadata": {
    "tags": []
   },
   "source": [
    "# Extract"
   ]
  },
  {
   "cell_type": "code",
   "execution_count": 162,
   "id": "ff477393-529c-431d-b33b-bfe85917e48b",
   "metadata": {},
   "outputs": [],
   "source": [
    "jdbc_url = f'jdbc:postgresql://{postgres_host}/{postgres_db}'\n",
    "jdbc_properties = {\n",
    "    'user': postgres_user,\n",
    "    'password': postgres_password,\n",
    "    'driver': 'org.postgresql.Driver',\n",
    "    'stringtype': 'unspecified'\n",
    "}\n",
    "\n",
    "sdf_retail = spark.read.jdbc(\n",
    "    jdbc_url,\n",
    "    'public.retail',\n",
    "    properties=jdbc_properties\n",
    ")"
   ]
  },
  {
   "cell_type": "markdown",
   "id": "5cd5f454-7a15-4031-b2c6-190d02f9d7c1",
   "metadata": {
    "tags": []
   },
   "source": [
    "# Transforms"
   ]
  },
  {
   "cell_type": "code",
   "execution_count": 163,
   "id": "d3cf063c-2067-4a3a-b7dc-c9a4b1037994",
   "metadata": {
    "tags": []
   },
   "outputs": [],
   "source": [
    "#get recency (now date - min date)\n",
    "sdf_recency = sdf_retail\\\n",
    "    .groupBy('CustomerID')\\\n",
    "    .agg(F.datediff(F.lit(datetime(2011,12,20)),F.max('InvoiceDate')).alias('recency')).alias('sdf_recency')\n",
    "\n",
    "#get frequency \n",
    "sdf_frequency = sdf_retail\\\n",
    "    .groupby('CustomerID')\\\n",
    "    .agg(F.countDistinct(\"InvoiceNo\").alias(\"frequency\")).alias('sdf_frequency')\n",
    "\n",
    "#get monetery\n",
    "sdf_monetery=sdf_retail\\\n",
    "    .groupby('CustomerID')\\\n",
    "    .agg(F.sum(F.col('UnitPrice')*F.col('Quantity')).alias('monetery')).alias('sdf_monetery')  "
   ]
  },
  {
   "cell_type": "code",
   "execution_count": 164,
   "id": "474692b0-7843-45fc-acd9-b5e15179b657",
   "metadata": {
    "tags": []
   },
   "outputs": [],
   "source": [
    "#join dataset recency frequency and monetery\n",
    "join_1=sdf_recency\\\n",
    "  .join(sdf_monetery,sdf_recency.CustomerID==sdf_monetery.CustomerID,'inner')\\\n",
    "  .select(sdf_recency['*'],sdf_monetery.monetery)\n",
    "sdf_cust=join_1\\\n",
    "  .join(sdf_frequency,join_1.CustomerID==sdf_frequency.CustomerID,'inner')\\\n",
    "  .select(join_1['*'],sdf_frequency.frequency)"
   ]
  },
  {
   "cell_type": "code",
   "execution_count": 165,
   "id": "517db5ad-0845-40db-a096-e5e717f70e6f",
   "metadata": {
    "tags": []
   },
   "outputs": [],
   "source": [
    "#get rfm quartile and score it\n",
    "quantile_r=get_quantile(sdf_recency,'recency')\n",
    "quantile_f=get_quantile(sdf_frequency,'frequency')\n",
    "quantile_m=get_quantile(sdf_monetery,'monetery')\n",
    "sdf_cust=sdf_cust\\\n",
    "    .withColumn(\"r_score\", r_udf(quantile_r)(F.col(\"recency\")))\\\n",
    "    .withColumn(\"f_score\", r_udf(quantile_r)(F.col(\"frequency\")))\\\n",
    "    .withColumn(\"m_score\", r_udf(quantile_r)(F.col(\"monetery\")))"
   ]
  },
  {
   "cell_type": "code",
   "execution_count": 170,
   "id": "60d41686-9de9-4578-800e-9d8ed1a054a1",
   "metadata": {
    "tags": []
   },
   "outputs": [],
   "source": [
    "#add rfm score ana segment label\n",
    "sdf_result=sdf_cust\\\n",
    "    .withColumn('rfm_score',F.concat(sdf_cust.r_score,sdf_cust.f_score,sdf_cust.m_score))\\\n",
    "    .withColumn(\"customer_segment\", rfm_udf(dict_label)(F.col(\"rfm_score\")))\\\n",
    "    .withColumn('date_ingest',F.lit(datetime.now()))"
   ]
  },
  {
   "cell_type": "code",
   "execution_count": 171,
   "id": "a21e4712-c0b7-46e0-a735-977b7ee48ff2",
   "metadata": {
    "tags": []
   },
   "outputs": [
    {
     "name": "stdout",
     "output_type": "stream",
     "text": [
      "+----------+-------+------------------+---------+-------+-------+-------+---------+----------------+--------------------+\n",
      "|CustomerID|recency|          monetery|frequency|r_score|f_score|m_score|rfm_score|customer_segment|         date_ingest|\n",
      "+----------+-------+------------------+---------+-------+-------+-------+---------+----------------+--------------------+\n",
      "|     16250|    272|389.44000000000005|        2|      4|      1|      4|      414|       Promising|2023-05-17 10:06:...|\n",
      "|     15574|    188| 702.2500000000001|        4|      4|      1|      4|      414|       Promising|2023-05-17 10:06:...|\n",
      "|     15555|     23| 4758.199999999989|       20|      1|      1|      4|      114|         At Risk|2023-05-17 10:06:...|\n",
      "|     15271|     18| 2485.820000000002|       16|      1|      1|      4|      114|         At Risk|2023-05-17 10:06:...|\n",
      "|     17714|    331|             153.0|        1|      4|      1|      3|      413|       Promising|2023-05-17 10:06:...|\n",
      "|     17686|     18| 5739.460000000007|        7|      1|      1|      4|      114|         At Risk|2023-05-17 10:06:...|\n",
      "|     13865|     69|            501.56|        4|      3|      1|      4|      314|       Promising|2023-05-17 10:06:...|\n",
      "|     14157|     30| 400.4300000000002|        3|      2|      1|      4|      214|  Need Attention|2023-05-17 10:06:...|\n",
      "|     13610|     23|1115.4300000000005|        9|      1|      1|      4|      114|         At Risk|2023-05-17 10:06:...|\n",
      "|     13772|     44|           1132.13|        3|      2|      1|      4|      214|  Need Attention|2023-05-17 10:06:...|\n",
      "|     13282|     29|           1047.84|        6|      2|      1|      4|      214|  Need Attention|2023-05-17 10:06:...|\n",
      "|     12394|     74|           1272.48|        2|      3|      1|      4|      314|       Promising|2023-05-17 10:06:...|\n",
      "|     16320|    183|           1038.46|        2|      4|      1|      4|      414|       Promising|2023-05-17 10:06:...|\n",
      "|     13192|    106| 911.9400000000002|        2|      3|      1|      4|      314|       Promising|2023-05-17 10:06:...|\n",
      "|     14887|     90|            1862.0|        1|      3|      1|      4|      314|       Promising|2023-05-17 10:06:...|\n",
      "|     17506|     81|294.28999999999996|        2|      3|      1|      4|      314|       Promising|2023-05-17 10:06:...|\n",
      "|     17427|     82|             100.8|        1|      3|      1|      3|      313|       Promising|2023-05-17 10:06:...|\n",
      "|     18130|     19|1045.7400000000002|        4|      1|      1|      4|      114|         At Risk|2023-05-17 10:06:...|\n",
      "|     16504|     36|484.37999999999977|        1|      2|      1|      4|      214|  Need Attention|2023-05-17 10:06:...|\n",
      "|     15269|     34|             408.8|        1|      2|      1|      4|      214|  Need Attention|2023-05-17 10:06:...|\n",
      "+----------+-------+------------------+---------+-------+-------+-------+---------+----------------+--------------------+\n",
      "only showing top 20 rows\n",
      "\n"
     ]
    }
   ],
   "source": [
    "#check data result\n",
    "sdf_result.show()"
   ]
  },
  {
   "cell_type": "markdown",
   "id": "92d65215-18a8-4d5e-b962-64249f3d129c",
   "metadata": {
    "tags": []
   },
   "source": [
    "# Load"
   ]
  },
  {
   "cell_type": "code",
   "execution_count": null,
   "id": "cb205196-2fbe-4101-9cb8-a0a9627e0c2f",
   "metadata": {
    "jupyter": {
     "source_hidden": true
    },
    "tags": []
   },
   "outputs": [],
   "source": [
    "jdbc_url = f'jdbc:postgresql://{postgres_host}/{postgres_db}'\n",
    "jdbc_properties = {\n",
    "    'user': postgres_user,\n",
    "    'password': postgres_password,\n",
    "    'driver': 'org.postgresql.Driver',\n",
    "    'stringtype': 'unspecified'\n",
    "}\n",
    "\n",
    "sdf_retail = spark.read.jdbc(\n",
    "    jdbc_url,\n",
    "    'public.retail',\n",
    "    properties=jdbc_properties\n",
    ")"
   ]
  },
  {
   "cell_type": "code",
   "execution_count": 172,
   "id": "f33d9c4d-c078-4801-87d3-f0a8750ee04d",
   "metadata": {
    "tags": []
   },
   "outputs": [],
   "source": [
    "#### write to public.customer_segmentation_rfm\n",
    "sdf_result\\\n",
    "    .write.format(\"jdbc\")\\\n",
    "    .mode(\"overwrite\")\\\n",
    "    .option(\"url\", jdbc_url)\\\n",
    "    .option(\"dbtable\", \"public.customer_segmentation_rfm\")\\\n",
    "    .option(\"user\", jdbc_properties.get('user'))\\\n",
    "    .option(\"password\", jdbc_properties.get('password'))\\\n",
    "    .option(\"driver\", \"org.postgresql.Driver\")\\\n",
    "    .save()"
   ]
  },
  {
   "cell_type": "code",
   "execution_count": 173,
   "id": "ccca6cc3-3c29-4c79-a78e-af29853752b2",
   "metadata": {
    "tags": []
   },
   "outputs": [
    {
     "name": "stdout",
     "output_type": "stream",
     "text": [
      "+----------+-------+------------------+---------+-------+-------+-------+---------+----------------+--------------------+\n",
      "|CustomerID|recency|          monetery|frequency|r_score|f_score|m_score|rfm_score|customer_segment|         date_ingest|\n",
      "+----------+-------+------------------+---------+-------+-------+-------+---------+----------------+--------------------+\n",
      "|     16250|    272|389.44000000000005|        2|      4|      1|      4|      414|       Promising|2023-05-17 10:06:...|\n",
      "|     15574|    188| 702.2500000000001|        4|      4|      1|      4|      414|       Promising|2023-05-17 10:06:...|\n",
      "|     15555|     23| 4758.199999999989|       20|      1|      1|      4|      114|         At Risk|2023-05-17 10:06:...|\n",
      "|     15271|     18| 2485.820000000002|       16|      1|      1|      4|      114|         At Risk|2023-05-17 10:06:...|\n",
      "|     17714|    331|             153.0|        1|      4|      1|      3|      413|       Promising|2023-05-17 10:06:...|\n",
      "|     17686|     18| 5739.460000000007|        7|      1|      1|      4|      114|         At Risk|2023-05-17 10:06:...|\n",
      "|     13865|     69|            501.56|        4|      3|      1|      4|      314|       Promising|2023-05-17 10:06:...|\n",
      "|     14157|     30| 400.4300000000002|        3|      2|      1|      4|      214|  Need Attention|2023-05-17 10:06:...|\n",
      "|     13610|     23|1115.4300000000005|        9|      1|      1|      4|      114|         At Risk|2023-05-17 10:06:...|\n",
      "|     13772|     44|           1132.13|        3|      2|      1|      4|      214|  Need Attention|2023-05-17 10:06:...|\n",
      "|     13282|     29|           1047.84|        6|      2|      1|      4|      214|  Need Attention|2023-05-17 10:06:...|\n",
      "|     12394|     74|           1272.48|        2|      3|      1|      4|      314|       Promising|2023-05-17 10:06:...|\n",
      "|     16320|    183|           1038.46|        2|      4|      1|      4|      414|       Promising|2023-05-17 10:06:...|\n",
      "|     13192|    106| 911.9400000000002|        2|      3|      1|      4|      314|       Promising|2023-05-17 10:06:...|\n",
      "|     14887|     90|            1862.0|        1|      3|      1|      4|      314|       Promising|2023-05-17 10:06:...|\n",
      "|     17506|     81|294.28999999999996|        2|      3|      1|      4|      314|       Promising|2023-05-17 10:06:...|\n",
      "|     17427|     82|             100.8|        1|      3|      1|      3|      313|       Promising|2023-05-17 10:06:...|\n",
      "|     18130|     19|1045.7400000000002|        4|      1|      1|      4|      114|         At Risk|2023-05-17 10:06:...|\n",
      "|     16504|     36|484.37999999999977|        1|      2|      1|      4|      214|  Need Attention|2023-05-17 10:06:...|\n",
      "|     15269|     34|             408.8|        1|      2|      1|      4|      214|  Need Attention|2023-05-17 10:06:...|\n",
      "+----------+-------+------------------+---------+-------+-------+-------+---------+----------------+--------------------+\n",
      "only showing top 20 rows\n",
      "\n"
     ]
    }
   ],
   "source": [
    "#### test to read from public.customer_segmentation_rfm\n",
    "sdf_segment = spark.read.jdbc(\n",
    "    jdbc_url,\n",
    "    'public.customer_segmentation_rfm',\n",
    "    properties=jdbc_properties\n",
    ")\n",
    "sdf_segment.show()"
   ]
  }
 ],
 "metadata": {
  "kernelspec": {
   "display_name": "Python 3 (ipykernel)",
   "language": "python",
   "name": "python3"
  },
  "language_info": {
   "codemirror_mode": {
    "name": "ipython",
    "version": 3
   },
   "file_extension": ".py",
   "mimetype": "text/x-python",
   "name": "python",
   "nbconvert_exporter": "python",
   "pygments_lexer": "ipython3",
   "version": "3.10.10"
  }
 },
 "nbformat": 4,
 "nbformat_minor": 5
}
